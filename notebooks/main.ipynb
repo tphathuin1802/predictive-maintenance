{
 "cells": [
  {
   "cell_type": "code",
   "execution_count": null,
   "id": "123cb566",
   "metadata": {},
   "outputs": [],
   "source": [
    "#Data wrangling and EDA\n",
    "import pandas as pd\n",
    "import numpy as np\n",
    "import matplotlib.pyplot as plt\n",
    "import seaborn as sns\n",
    "import plotly.express as px\n",
    "\n",
    "import warnings \n",
    "warnings.filterwarnings('ignore')\n",
    "\n",
    "from imblearn.over_sampling import SMOTENC\n",
    "from sklearn.utils import class_weight\n",
    "\n",
    "#Dimension reduction\n",
    "from sklearn.decomposition import PCA\n",
    "\n",
    "#Preprocessing\n",
    "from sklearn.preprocessing import StandardScaler, PowerTransformer, OrdinalEncoder\n",
    "from sklearn.model import LabelEncoder\n",
    "from sklearn.model_selection import train_test_split"
   ]
  }
 ],
 "metadata": {
  "kernelspec": {
   "display_name": "venv",
   "language": "python",
   "name": "python3"
  },
  "language_info": {
   "codemirror_mode": {
    "name": "ipython",
    "version": 3
   },
   "file_extension": ".py",
   "mimetype": "text/x-python",
   "name": "python",
   "nbconvert_exporter": "python",
   "pygments_lexer": "ipython3",
   "version": "3.13.2"
  }
 },
 "nbformat": 4,
 "nbformat_minor": 5
}
